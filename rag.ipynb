{
 "cells": [
  {
   "cell_type": "code",
   "execution_count": 7,
   "metadata": {},
   "outputs": [
    {
     "name": "stdout",
     "output_type": "stream",
     "text": [
      "Imports and setup completed.\n"
     ]
    }
   ],
   "source": [
    "#Imports and Initial Setup\n",
    "import pandas as pd\n",
    "import numpy as np\n",
    "from datasets import load_dataset\n",
    "import json\n",
    "import re\n",
    "from typing import List, Dict, Any\n",
    "import logging\n",
    "import warnings\n",
    "warnings.filterwarnings('ignore')\n",
    "\n",
    "# Set up logging\n",
    "logging.basicConfig(level=logging.INFO)\n",
    "logger = logging.getLogger(__name__)\n",
    "\n",
    "print(\"Imports and setup completed.\")"
   ]
  },
  {
   "cell_type": "code",
   "execution_count": 8,
   "metadata": {},
   "outputs": [
    {
     "name": "stdout",
     "output_type": "stream",
     "text": [
      "QuoteDataProcessor class defined.\n"
     ]
    }
   ],
   "source": [
    "#Quote Data Processor Class\n",
    "class QuoteDataProcessor:\n",
    "    def __init__(self):\n",
    "        self.dataset = None\n",
    "        self.processed_data = None\n",
    "    \n",
    "    def load_data(self):\n",
    "        logger.info(\"Loading english_quotes dataset...\")\n",
    "        try:\n",
    "            self.dataset = load_dataset(\"Abirate/english_quotes\")\n",
    "            logger.info(f\"Dataset loaded successfully. Size: {len(self.dataset['train'])}\")\n",
    "            return True\n",
    "        except Exception as e:\n",
    "            logger.error(f\"Error loading dataset: {e}\")\n",
    "            return False\n",
    "    \n",
    "    def clean_text(self, text: str) -> str:\n",
    "        if not isinstance(text, str):\n",
    "            return \"\"\n",
    "        text = re.sub(r'\\s+', ' ', text).strip()\n",
    "        text = re.sub(r'[^\\w\\s\\.\\,\\!\\?\\;\\:\\-\\'\\\"]', ' ', text)\n",
    "        return text\n",
    "    \n",
    "    def preprocess_data(self):\n",
    "        #Preprocess and clean the dataset\n",
    "        logger.info(\"Preprocessing data...\")\n",
    "        df = pd.DataFrame(self.dataset['train'])\n",
    "        df['quote'] = df['quote'].apply(self.clean_text)\n",
    "        df['author'] = df['author'].fillna('Unknown').apply(self.clean_text)\n",
    "        df['tags'] = df['tags'].apply(lambda x: [tag.strip() for tag in x] if isinstance(x, list) else [])\n",
    "        df = df[df['quote'].str.len() > 0]\n",
    "        df['combined_text'] = df.apply(\n",
    "            lambda row: f\"Quote: {row['quote']} | Author: {row['author']} | Tags: {', '.join(row['tags'])}\", \n",
    "            axis=1\n",
    "        )\n",
    "        self.processed_data = df\n",
    "        logger.info(f\"Data preprocessing completed. Final size: {len(df)}\")\n",
    "        return df\n",
    "    \n",
    "    def save_processed_data(self, filepath: str = \"processed_quotes.json\"):\n",
    "        \"\"\"Save processed data to JSON\"\"\"\n",
    "        if self.processed_data is not None:\n",
    "            self.processed_data.to_json(filepath, orient='records', indent=2)\n",
    "            logger.info(f\"Processed data saved to {filepath}\")\n",
    "\n",
    "print(\"QuoteDataProcessor class defined.\")"
   ]
  },
  {
   "cell_type": "code",
   "execution_count": 9,
   "metadata": {},
   "outputs": [
    {
     "name": "stderr",
     "output_type": "stream",
     "text": [
      "INFO:__main__:Loading english_quotes dataset...\n",
      "INFO:__main__:Dataset loaded successfully. Size: 2508\n",
      "INFO:__main__:Preprocessing data...\n",
      "INFO:__main__:Data preprocessing completed. Final size: 2508\n",
      "INFO:__main__:Processed data saved to processed_quotes.json\n"
     ]
    },
    {
     "name": "stdout",
     "output_type": "stream",
     "text": [
      "Dataset loaded and preprocessed. Size: 2508\n",
      "                                               quote                 author  \\\n",
      "0      Be yourself; everyone else is already taken.             Oscar Wilde   \n",
      "1   I'm selfish, impatient and a little insecure....         Marilyn Monroe   \n",
      "2   Two things are infinite: the universe and hum...        Albert Einstein   \n",
      "3                    So many books, so little time.             Frank Zappa   \n",
      "4   A room without books is like a body without a...  Marcus Tullius Cicero   \n",
      "\n",
      "                                                tags  \\\n",
      "0  [be-yourself, gilbert-perreira, honesty, inspi...   \n",
      "1  [best, life, love, mistakes, out-of-control, t...   \n",
      "2  [human-nature, humor, infinity, philosophy, sc...   \n",
      "3                                     [books, humor]   \n",
      "4                              [books, simile, soul]   \n",
      "\n",
      "                                       combined_text  \n",
      "0  Quote:  Be yourself; everyone else is already ...  \n",
      "1  Quote:  I'm selfish, impatient and a little in...  \n",
      "2  Quote:  Two things are infinite: the universe ...  \n",
      "3  Quote:  So many books, so little time.  | Auth...  \n",
      "4  Quote:  A room without books is like a body wi...  \n"
     ]
    }
   ],
   "source": [
    "#Load and Preprocess Data\n",
    "processor = QuoteDataProcessor()\n",
    "if processor.load_data():\n",
    "    df = processor.preprocess_data()\n",
    "    processor.save_processed_data()\n",
    "    print(f\"Dataset loaded and preprocessed. Size: {len(df)}\")\n",
    "    print(df.head())\n",
    "else:\n",
    "    print(\"Failed to load dataset.\")"
   ]
  },
  {
   "cell_type": "code",
   "execution_count": 10,
   "metadata": {},
   "outputs": [
    {
     "name": "stdout",
     "output_type": "stream",
     "text": [
      "QuoteEmbeddingModel class defined.\n"
     ]
    }
   ],
   "source": [
    "#Quote Embedding Model Class\n",
    "from sentence_transformers import SentenceTransformer, InputExample, losses\n",
    "from sentence_transformers.evaluation import EmbeddingSimilarityEvaluator\n",
    "from torch.utils.data import DataLoader\n",
    "\n",
    "class QuoteEmbeddingModel:\n",
    "    def __init__(self, model_name: str = \"all-MiniLM-L6-v2\"):\n",
    "        self.model_name = model_name\n",
    "        self.model = None\n",
    "        self.is_fine_tuned = False\n",
    "    \n",
    "    def load_base_model(self):\n",
    "        \"\"\"Load the base sentence transformer model\"\"\"\n",
    "        logger.info(f\"Loading base model: {self.model_name}\")\n",
    "        self.model = SentenceTransformer(self.model_name)\n",
    "        return self.model\n",
    "    \n",
    "    def prepare_training_data(self, df: pd.DataFrame, sample_size: int = 1000):\n",
    "        \"\"\"Prepare training data for fine-tuning\"\"\"\n",
    "        logger.info(\"Preparing training data for fine-tuning...\")\n",
    "        train_examples = []\n",
    "        sample_df = df.sample(n=min(sample_size, len(df)), random_state=42)\n",
    "        for _, row in sample_df.iterrows():\n",
    "            train_examples.append(InputExample(\n",
    "                texts=[row['quote'], f\"Author: {row['author']}\"],\n",
    "                label=1.0\n",
    "            ))\n",
    "            for tag in row['tags'][:2]:\n",
    "                train_examples.append(InputExample(\n",
    "                    texts=[row['quote'], f\"Tag: {tag}\"],\n",
    "                    label=0.8\n",
    "                ))\n",
    "        logger.info(f\"Created {len(train_examples)} training examples\")\n",
    "        return train_examples\n",
    "    \n",
    "    def fine_tune_model(self, df: pd.DataFrame, epochs: int = 1, batch_size: int = 16):\n",
    "        \"\"\"Fine-tune the sentence transformer model\"\"\"\n",
    "        if self.model is None:\n",
    "            self.load_base_model()\n",
    "        logger.info(\"Starting model fine-tuning...\")\n",
    "        train_examples = self.prepare_training_data(df)\n",
    "        train_dataloader = DataLoader(train_examples, shuffle=True, batch_size=batch_size)\n",
    "        train_loss = losses.CosineSimilarityLoss(self.model)\n",
    "        self.model.fit(\n",
    "            train_objectives=[(train_dataloader, train_loss)],\n",
    "            epochs=epochs,\n",
    "            warmup_steps=100,\n",
    "            output_path='./fine_tuned_quote_model'\n",
    "        )\n",
    "        self.is_f_fine_tuned = True\n",
    "        logger.info(\"Model fine-tuning completed!\")\n",
    "        return self.model\n",
    "    \n",
    "    def save_model(self, path: str = \"./fine_tuned_quote_model\"):\n",
    "        \"\"\"Save the fine-tuned model\"\"\"\n",
    "        if self.model:\n",
    "            self.model.save(path)\n",
    "            logger.info(f\"Model saved to {path}\")\n",
    "    \n",
    "    def load_model(self, path: str = \"./fine_tuned_quote_model\"):\n",
    "        \"\"\"Load a fine-tuned model\"\"\"\n",
    "        try:\n",
    "            self.model = SentenceTransformer(path)\n",
    "            self.is_fine_tuned = True\n",
    "            logger.info(f\"Fine-tuned model loaded from {path}\")\n",
    "        except:\n",
    "            logger.info(\"Fine-tuned model not found, loading base model...\")\n",
    "            self.load_base_model()\n",
    "        return self.model\n",
    "\n",
    "print(\"QuoteEmbeddingModel class defined.\")"
   ]
  },
  {
   "cell_type": "code",
   "execution_count": 11,
   "metadata": {},
   "outputs": [
    {
     "name": "stderr",
     "output_type": "stream",
     "text": [
      "INFO:sentence_transformers.SentenceTransformer:Load pretrained SentenceTransformer: ./fine_tuned_quote_model\n",
      "WARNING:sentence_transformers.SentenceTransformer:No sentence-transformers model found with name ./fine_tuned_quote_model. Creating a new one with MEAN pooling.\n",
      "INFO:__main__:Fine-tuned model not found, loading base model...\n",
      "INFO:__main__:Loading base model: all-MiniLM-L6-v2\n",
      "INFO:sentence_transformers.SentenceTransformer:Load pretrained SentenceTransformer: all-MiniLM-L6-v2\n",
      "INFO:sentence_transformers.SentenceTransformer:Use pytorch device_name: cpu\n",
      "INFO:__main__:Starting model fine-tuning...\n",
      "INFO:__main__:Preparing training data for fine-tuning...\n",
      "INFO:__main__:Created 2692 training examples\n"
     ]
    },
    {
     "data": {
      "application/vnd.jupyter.widget-view+json": {
       "model_id": "345597c4a2dd4717bafadf74c24d22e6",
       "version_major": 2,
       "version_minor": 0
      },
      "text/plain": [
       "Epoch:   0%|          | 0/1 [00:00<?, ?it/s]"
      ]
     },
     "metadata": {},
     "output_type": "display_data"
    },
    {
     "data": {
      "application/vnd.jupyter.widget-view+json": {
       "model_id": "0ea1d3800f384c10829e309c7e988c20",
       "version_major": 2,
       "version_minor": 0
      },
      "text/plain": [
       "Iteration:   0%|          | 0/169 [00:00<?, ?it/s]"
      ]
     },
     "metadata": {},
     "output_type": "display_data"
    },
    {
     "name": "stderr",
     "output_type": "stream",
     "text": [
      "INFO:sentence_transformers.SentenceTransformer:Save model to ./fine_tuned_quote_model\n",
      "INFO:__main__:Model fine-tuning completed!\n",
      "INFO:sentence_transformers.SentenceTransformer:Save model to ./fine_tuned_quote_model\n",
      "INFO:__main__:Model saved to ./fine_tuned_quote_model\n"
     ]
    },
    {
     "name": "stdout",
     "output_type": "stream",
     "text": [
      "Embedding model loaded.\n"
     ]
    }
   ],
   "source": [
    "#Load or Fine-Tune Model\n",
    "embedding_model = QuoteEmbeddingModel()\n",
    "model = embedding_model.load_model()  # Try loading fine-tuned model\n",
    "# Optional: Fine-tune if you want (uncomment to run, takes time)\n",
    "embedding_model.fine_tune_model(df, epochs=1)\n",
    "embedding_model.save_model()\n",
    "print(\"Embedding model loaded.\")"
   ]
  },
  {
   "cell_type": "code",
   "execution_count": 12,
   "metadata": {},
   "outputs": [
    {
     "name": "stdout",
     "output_type": "stream",
     "text": [
      "RAGQuotePipeline class defined.\n"
     ]
    }
   ],
   "source": [
    "#RAG Quote Pipeline Class\n",
    "import faiss\n",
    "from typing import Tuple\n",
    "\n",
    "class RAGQuotePipeline:\n",
    "    def __init__(self, model: SentenceTransformer, df: pd.DataFrame):\n",
    "        self.model = model\n",
    "        self.df = df\n",
    "        self.index = None\n",
    "        self.embeddings = None\n",
    "        self.llm_client = None\n",
    "    \n",
    "    def create_embeddings(self):\n",
    "        \"\"\"Create embeddings for all quotes\"\"\"\n",
    "        logger.info(\"Creating embeddings for all quotes...\")\n",
    "        texts = self.df['combined_text'].tolist()\n",
    "        self.embeddings = self.model.encode(texts, show_progress_bar=True)\n",
    "        logger.info(f\"Created embeddings with shape: {self.embeddings.shape}\")\n",
    "        return self.embeddings\n",
    "    \n",
    "    def build_faiss_index(self):\n",
    "        \"\"\"Build FAISS index for similarity search\"\"\"\n",
    "        if self.embeddings is None:\n",
    "            self.create_embeddings()\n",
    "        logger.info(\"Building FAISS index...\")\n",
    "        dimension = self.embeddings.shape[1]\n",
    "        self.index = faiss.IndexFlatIP(dimension)\n",
    "        faiss.normalize_L2(self.embeddings)\n",
    "        self.index.add(self.embeddings.astype('float32'))\n",
    "        logger.info(f\"FAISS index built with {self.index.ntotal} vectors\")\n",
    "        return self.index\n",
    "    \n",
    "    def setup_llm(self, use_ollama: bool = True):\n",
    "        \"\"\"Setup LLM for generation\"\"\"\n",
    "        if use_ollama:\n",
    "            try:\n",
    "                import ollama\n",
    "                self.llm_client = ollama.Client()\n",
    "                logger.info(\"Ollama client initialized\")\n",
    "            except ImportError:\n",
    "                logger.error(\"Ollama not installed. Using fallback response generator\")\n",
    "                self.llm_client = \"fallback\"\n",
    "        else:\n",
    "            self.llm_client = \"fallback\"\n",
    "        return self.llm_client\n",
    "    \n",
    "    def retrieve_quotes(self, query: str, top_k: int = 5) -> List[Dict]:\n",
    "        \"\"\"Retrieve relevant quotes based on query\"\"\"\n",
    "        if self.index is None:\n",
    "            self.build_faiss_index()\n",
    "        query_embedding = self.model.encode([query])\n",
    "        faiss.normalize_L2(query_embedding)\n",
    "        scores, indices = self.index.search(query_embedding.astype('float32'), top_k)\n",
    "        results = []\n",
    "        for i, (score, idx) in enumerate(zip(scores[0], indices[0])):\n",
    "            if idx < len(self.df):\n",
    "                quote_data = self.df.iloc[idx]\n",
    "                results.append({\n",
    "                    'rank': i + 1,\n",
    "                    'score': float(score),\n",
    "                    'quote': quote_data['quote'],\n",
    "                    'author': quote_data['author'],\n",
    "                    'tags': quote_data['tags'],\n",
    "                    'combined_text': quote_data['combined_text']\n",
    "                })\n",
    "        return results\n",
    "    \n",
    "    def generate_response(self, query: str, retrieved_quotes: List[Dict]) -> str:\n",
    "        \"\"\"Generate response using LLM\"\"\"\n",
    "        context = \"\\n\".join([\n",
    "            f\"Quote {i+1}: \\\"{quote['quote']}\\\" - {quote['author']} (Tags: {', '.join(quote['tags'])})\"\n",
    "            for i, quote in enumerate(retrieved_quotes[:3])\n",
    "        ])\n",
    "        prompt = f\"\"\"Based on the following quotes, provide a comprehensive answer to the user's query.\n",
    "Query: {query}\n",
    "Relevant Quotes:\n",
    "{context}\n",
    "Please provide a structured response that includes:\n",
    "1. A brief summary addressing the query\n",
    "2. The most relevant quotes with their authors\n",
    "3. Any insights or connections between the quotes\n",
    "Response:\"\"\"\n",
    "        if self.llm_client and self.llm_client != \"fallback\":\n",
    "            try:\n",
    "                response = self.llm_client.generate(model='llama2', prompt=prompt)\n",
    "                return response['response']\n",
    "            except Exception as e:\n",
    "                logger.error(f\"Error with Ollama: {e}\")\n",
    "                return self._fallback_response(query, retrieved_quotes)\n",
    "        else:\n",
    "            return self._fallback_response(query, retrieved_quotes)\n",
    "    \n",
    "    def _fallback_response(self, query: str, retrieved_quotes: List[Dict]) -> str:\n",
    "        \"\"\"Fallback response when LLM is not available\"\"\"\n",
    "        if not retrieved_quotes:\n",
    "            return \"No relevant quotes found for your query.\"\n",
    "        response = f\"Here are the most relevant quotes for '{query}':\\n\\n\"\n",
    "        for i, quote in enumerate(retrieved_quotes[:3], 1):\n",
    "            response += f\"{i}. \\\"{quote['quote']}\\\"\\n\"\n",
    "            response += f\"   - Author: {quote['author']}\\n\"\n",
    "            if quote['tags']:\n",
    "                response += f\"   - Tags: {', '.join(quote['tags'])}\\n\"\n",
    "            response += f\"   - Relevance Score: {quote['score']:.3f}\\n\\n\"\n",
    "        return response\n",
    "    \n",
    "    def query(self, user_query: str, top_k: int = 5) -> Dict[str, Any]:\n",
    "        \"\"\"Main query function that combines retrieval and generation\"\"\"\n",
    "        logger.info(f\"Processing query: {user_query}\")\n",
    "        retrieved_quotes = self.retrieve_quotes(user_query, top_k)\n",
    "        generated_response = self.generate_response(user_query, retrieved_quotes)\n",
    "        return {\n",
    "            'query': user_query,\n",
    "            'response': generated_response,\n",
    "            'retrieved_quotes': retrieved_quotes,\n",
    "            'num_results': len(retrieved_quotes)\n",
    "        }\n",
    "\n",
    "print(\"RAGQuotePipeline class defined.\")"
   ]
  },
  {
   "cell_type": "code",
   "execution_count": 13,
   "metadata": {},
   "outputs": [
    {
     "name": "stdout",
     "output_type": "stream",
     "text": [
      "RAG pipeline initialized.\n"
     ]
    }
   ],
   "source": [
    "#Initialize RAG Pipeline\n",
    "rag_pipeline = RAGQuotePipeline(model, df)\n",
    "rag_pipeline.setup_llm(use_ollama=False)  # Set to True if Ollama is installed\n",
    "print(\"RAG pipeline initialized.\")"
   ]
  },
  {
   "cell_type": "code",
   "execution_count": 14,
   "metadata": {},
   "outputs": [
    {
     "name": "stderr",
     "output_type": "stream",
     "text": [
      "INFO:__main__:Processing query: Motivational quotes about success\n",
      "INFO:__main__:Creating embeddings for all quotes...\n"
     ]
    },
    {
     "data": {
      "application/vnd.jupyter.widget-view+json": {
       "model_id": "a04452688a924437873d7f09c5d470c5",
       "version_major": 2,
       "version_minor": 0
      },
      "text/plain": [
       "Batches:   0%|          | 0/79 [00:00<?, ?it/s]"
      ]
     },
     "metadata": {},
     "output_type": "display_data"
    },
    {
     "name": "stderr",
     "output_type": "stream",
     "text": [
      "INFO:__main__:Created embeddings with shape: (2508, 384)\n",
      "INFO:__main__:Building FAISS index...\n",
      "INFO:__main__:FAISS index built with 2508 vectors\n"
     ]
    },
    {
     "data": {
      "application/vnd.jupyter.widget-view+json": {
       "model_id": "dbc50d9dda54443c993e5cb737f1527c",
       "version_major": 2,
       "version_minor": 0
      },
      "text/plain": [
       "Batches:   0%|          | 0/1 [00:00<?, ?it/s]"
      ]
     },
     "metadata": {},
     "output_type": "display_data"
    },
    {
     "name": "stdout",
     "output_type": "stream",
     "text": [
      "Query: Motivational quotes about success\n",
      "Response: Here are the most relevant quotes for 'Motivational quotes about success':\n",
      "\n",
      "1. \" Success is getting what you want, happiness is wanting what you get \"\n",
      "   - Author: W. P. Kinsella\n",
      "   - Tags: happiness, success\n",
      "   - Relevance Score: 0.951\n",
      "\n",
      "2. \" You never fail until you stop trying. \"\n",
      "   - Author: Albert Einstein\n",
      "   - Tags: inspirational\n",
      "   - Relevance Score: 0.947\n",
      "\n",
      "3. \" The starting point of all achievement is DESIRE. Keep this constantly in mind. Weak desire brings weak results, just as a small fire makes a small amount of heat. \"\n",
      "   - Author: Napoleon Hill,\n",
      "   - Tags: inspirational\n",
      "   - Relevance Score: 0.946\n",
      "\n",
      "\n",
      "Retrieved Quotes:\n",
      "-  Success is getting what you want, happiness is wanting what you get  (Author: W. P. Kinsella, Score: 0.951)\n",
      "-  You never fail until you stop trying.  (Author: Albert Einstein, Score: 0.947)\n",
      "-  The starting point of all achievement is DESIRE. Keep this constantly in mind. Weak desire brings weak results, just as a small fire makes a small amount of heat.  (Author: Napoleon Hill,, Score: 0.946)\n",
      "-  Success is stumbling from failure to failure with no loss of enthusiasm.  (Author: Winston S. Churchill, Score: 0.945)\n",
      "-  Success is not final, failure is not fatal: it is the courage to continue that counts.  (Author: Winston S. Churchill, Score: 0.943)\n"
     ]
    }
   ],
   "source": [
    "#Test Query\n",
    "test_query = \"Motivational quotes about success\"\n",
    "result = rag_pipeline.query(test_query)\n",
    "print(\"Query:\", result['query'])\n",
    "print(\"Response:\", result['response'])\n",
    "print(\"Retrieved Quotes:\")\n",
    "for quote in result['retrieved_quotes']:\n",
    "    print(f\"- {quote['quote']} (Author: {quote['author']}, Score: {quote['score']:.3f})\")"
   ]
  },
  {
   "cell_type": "code",
   "execution_count": 15,
   "metadata": {},
   "outputs": [
    {
     "name": "stdout",
     "output_type": "stream",
     "text": [
      "RAGEvaluator class defined.\n"
     ]
    }
   ],
   "source": [
    "#RAG Evaluator Class\n",
    "from ragas import evaluate\n",
    "from ragas.metrics import faithfulness, answer_relevancy, context_recall, context_precision\n",
    "from datasets import Dataset\n",
    "\n",
    "class RAGEvaluator:\n",
    "    def __init__(self, rag_pipeline: RAGQuotePipeline):\n",
    "        self.rag_pipeline = rag_pipeline\n",
    "        self.test_queries = [\n",
    "            \"Quotes about insanity attributed to Einstein\",\n",
    "            \"Motivational quotes tagged 'accomplishment'\",\n",
    "            \"All Oscar Wilde quotes with humor\",\n",
    "            \"Quotes about love and life\",\n",
    "            \"Inspirational quotes by women authors\",\n",
    "            \"Quotes about courage and bravery\",\n",
    "            \"Philosophical quotes about existence\",\n",
    "            \"Quotes about success and failure\"\n",
    "        ]\n",
    "    \n",
    "    def prepare_evaluation_data(self):\n",
    "        \"\"\"Prepare data for RAGAS evaluation\"\"\"\n",
    "        evaluation_data = []\n",
    "        for query in self.test_queries:\n",
    "            result = self.rag_pipeline.query(query)\n",
    "            contexts = [quote['combined_text'] for quote in result['retrieved_quotes']]\n",
    "            evaluation_data.append({\n",
    "                'question': query,\n",
    "                'answer': result['response'],\n",
    "                'contexts': contexts,\n",
    "                'ground_truths': [query]\n",
    "            })\n",
    "        return Dataset.from_list(evaluation_data)\n",
    "    \n",
    "    def evaluate_rag(self):\n",
    "        \"\"\"Evaluate RAG pipeline using RAGAS metrics\"\"\"\n",
    "        logger.info(\"Starting RAG evaluation...\")\n",
    "        try:\n",
    "            eval_dataset = self.prepare_evaluation_data()\n",
    "            result = evaluate(\n",
    "                eval_dataset,\n",
    "                metrics=[answer_relevancy, context_recall]\n",
    "            )\n",
    "            logger.info(\"RAG evaluation completed!\")\n",
    "            return result\n",
    "        except Exception as e:\n",
    "            logger.error(f\"Error in RAG evaluation: {e}\")\n",
    "            return self._manual_evaluation()\n",
    "    \n",
    "    def _manual_evaluation(self):\n",
    "        \"\"\"Manual evaluation as fallback\"\"\"\n",
    "        logger.info(\"Running manual evaluation...\")\n",
    "        results = []\n",
    "        for query in self.test_queries:\n",
    "            result = self.rag_pipeline.query(query)\n",
    "            relevancy_score = sum([quote['score'] for quote in result['retrieved_quotes']]) / len(result['retrieved_quotes']) if result['retrieved_quotes'] else 0\n",
    "            results.append({\n",
    "                'query': query,\n",
    "                'num_retrieved': len(result['retrieved_quotes']),\n",
    "                'avg_relevancy': relevancy_score,\n",
    "                'response_length': len(result['response'])\n",
    "            })\n",
    "        return {'manual_evaluation': results}\n",
    "\n",
    "print(\"RAGEvaluator class defined.\")"
   ]
  },
  {
   "cell_type": "code",
   "execution_count": 16,
   "metadata": {},
   "outputs": [
    {
     "name": "stderr",
     "output_type": "stream",
     "text": [
      "INFO:__main__:Starting RAG evaluation...\n",
      "INFO:__main__:Processing query: Quotes about insanity attributed to Einstein\n"
     ]
    },
    {
     "data": {
      "application/vnd.jupyter.widget-view+json": {
       "model_id": "ca4cd2d5bbcf4db0baf5fde379af33bf",
       "version_major": 2,
       "version_minor": 0
      },
      "text/plain": [
       "Batches:   0%|          | 0/1 [00:00<?, ?it/s]"
      ]
     },
     "metadata": {},
     "output_type": "display_data"
    },
    {
     "name": "stderr",
     "output_type": "stream",
     "text": [
      "INFO:__main__:Processing query: Motivational quotes tagged 'accomplishment'\n"
     ]
    },
    {
     "data": {
      "application/vnd.jupyter.widget-view+json": {
       "model_id": "9ac08d09af404fd5bf6a29a8cc2f1b9b",
       "version_major": 2,
       "version_minor": 0
      },
      "text/plain": [
       "Batches:   0%|          | 0/1 [00:00<?, ?it/s]"
      ]
     },
     "metadata": {},
     "output_type": "display_data"
    },
    {
     "name": "stderr",
     "output_type": "stream",
     "text": [
      "INFO:__main__:Processing query: All Oscar Wilde quotes with humor\n"
     ]
    },
    {
     "data": {
      "application/vnd.jupyter.widget-view+json": {
       "model_id": "46d28418b2544cd0b5db46e0c0c54af1",
       "version_major": 2,
       "version_minor": 0
      },
      "text/plain": [
       "Batches:   0%|          | 0/1 [00:00<?, ?it/s]"
      ]
     },
     "metadata": {},
     "output_type": "display_data"
    },
    {
     "name": "stderr",
     "output_type": "stream",
     "text": [
      "INFO:__main__:Processing query: Quotes about love and life\n"
     ]
    },
    {
     "data": {
      "application/vnd.jupyter.widget-view+json": {
       "model_id": "9998512f303c4dcf995723f6dfa801e5",
       "version_major": 2,
       "version_minor": 0
      },
      "text/plain": [
       "Batches:   0%|          | 0/1 [00:00<?, ?it/s]"
      ]
     },
     "metadata": {},
     "output_type": "display_data"
    },
    {
     "name": "stderr",
     "output_type": "stream",
     "text": [
      "INFO:__main__:Processing query: Inspirational quotes by women authors\n"
     ]
    },
    {
     "data": {
      "application/vnd.jupyter.widget-view+json": {
       "model_id": "68ca01ec375c4d1f97261d884cf43bd9",
       "version_major": 2,
       "version_minor": 0
      },
      "text/plain": [
       "Batches:   0%|          | 0/1 [00:00<?, ?it/s]"
      ]
     },
     "metadata": {},
     "output_type": "display_data"
    },
    {
     "name": "stderr",
     "output_type": "stream",
     "text": [
      "INFO:__main__:Processing query: Quotes about courage and bravery\n"
     ]
    },
    {
     "data": {
      "application/vnd.jupyter.widget-view+json": {
       "model_id": "931c08950c594f6a80a4df9713f7f504",
       "version_major": 2,
       "version_minor": 0
      },
      "text/plain": [
       "Batches:   0%|          | 0/1 [00:00<?, ?it/s]"
      ]
     },
     "metadata": {},
     "output_type": "display_data"
    },
    {
     "name": "stderr",
     "output_type": "stream",
     "text": [
      "INFO:__main__:Processing query: Philosophical quotes about existence\n"
     ]
    },
    {
     "data": {
      "application/vnd.jupyter.widget-view+json": {
       "model_id": "7359df85c16d4a3f9e8217f73223de0d",
       "version_major": 2,
       "version_minor": 0
      },
      "text/plain": [
       "Batches:   0%|          | 0/1 [00:00<?, ?it/s]"
      ]
     },
     "metadata": {},
     "output_type": "display_data"
    },
    {
     "name": "stderr",
     "output_type": "stream",
     "text": [
      "INFO:__main__:Processing query: Quotes about success and failure\n"
     ]
    },
    {
     "data": {
      "application/vnd.jupyter.widget-view+json": {
       "model_id": "81031cdda5e6497c8459d43bbf3accfc",
       "version_major": 2,
       "version_minor": 0
      },
      "text/plain": [
       "Batches:   0%|          | 0/1 [00:00<?, ?it/s]"
      ]
     },
     "metadata": {},
     "output_type": "display_data"
    },
    {
     "name": "stderr",
     "output_type": "stream",
     "text": [
      "ERROR:__main__:Error in RAG evaluation: The metric [context_recall] that is used requires the following additional columns ['reference'] to be present in the dataset.\n",
      "INFO:__main__:Running manual evaluation...\n",
      "INFO:__main__:Processing query: Quotes about insanity attributed to Einstein\n"
     ]
    },
    {
     "data": {
      "application/vnd.jupyter.widget-view+json": {
       "model_id": "9ce16714865b497794acf9caf4f817e4",
       "version_major": 2,
       "version_minor": 0
      },
      "text/plain": [
       "Batches:   0%|          | 0/1 [00:00<?, ?it/s]"
      ]
     },
     "metadata": {},
     "output_type": "display_data"
    },
    {
     "name": "stderr",
     "output_type": "stream",
     "text": [
      "INFO:__main__:Processing query: Motivational quotes tagged 'accomplishment'\n"
     ]
    },
    {
     "data": {
      "application/vnd.jupyter.widget-view+json": {
       "model_id": "8685ae8112cb486a85fc36b0808398c9",
       "version_major": 2,
       "version_minor": 0
      },
      "text/plain": [
       "Batches:   0%|          | 0/1 [00:00<?, ?it/s]"
      ]
     },
     "metadata": {},
     "output_type": "display_data"
    },
    {
     "name": "stderr",
     "output_type": "stream",
     "text": [
      "INFO:__main__:Processing query: All Oscar Wilde quotes with humor\n"
     ]
    },
    {
     "data": {
      "application/vnd.jupyter.widget-view+json": {
       "model_id": "2aefb449ee1143d39c7d0d0e4d896584",
       "version_major": 2,
       "version_minor": 0
      },
      "text/plain": [
       "Batches:   0%|          | 0/1 [00:00<?, ?it/s]"
      ]
     },
     "metadata": {},
     "output_type": "display_data"
    },
    {
     "name": "stderr",
     "output_type": "stream",
     "text": [
      "INFO:__main__:Processing query: Quotes about love and life\n"
     ]
    },
    {
     "data": {
      "application/vnd.jupyter.widget-view+json": {
       "model_id": "355609c999104fdc80ef58fdb74f8945",
       "version_major": 2,
       "version_minor": 0
      },
      "text/plain": [
       "Batches:   0%|          | 0/1 [00:00<?, ?it/s]"
      ]
     },
     "metadata": {},
     "output_type": "display_data"
    },
    {
     "name": "stderr",
     "output_type": "stream",
     "text": [
      "INFO:__main__:Processing query: Inspirational quotes by women authors\n"
     ]
    },
    {
     "data": {
      "application/vnd.jupyter.widget-view+json": {
       "model_id": "b286c48a850840dc9301086adcd562eb",
       "version_major": 2,
       "version_minor": 0
      },
      "text/plain": [
       "Batches:   0%|          | 0/1 [00:00<?, ?it/s]"
      ]
     },
     "metadata": {},
     "output_type": "display_data"
    },
    {
     "name": "stderr",
     "output_type": "stream",
     "text": [
      "INFO:__main__:Processing query: Quotes about courage and bravery\n"
     ]
    },
    {
     "data": {
      "application/vnd.jupyter.widget-view+json": {
       "model_id": "15607ea374b44b2982312c8bf1c45719",
       "version_major": 2,
       "version_minor": 0
      },
      "text/plain": [
       "Batches:   0%|          | 0/1 [00:00<?, ?it/s]"
      ]
     },
     "metadata": {},
     "output_type": "display_data"
    },
    {
     "name": "stderr",
     "output_type": "stream",
     "text": [
      "INFO:__main__:Processing query: Philosophical quotes about existence\n"
     ]
    },
    {
     "data": {
      "application/vnd.jupyter.widget-view+json": {
       "model_id": "dd91fbca7f5c4256b6d86ad9d5ff3e31",
       "version_major": 2,
       "version_minor": 0
      },
      "text/plain": [
       "Batches:   0%|          | 0/1 [00:00<?, ?it/s]"
      ]
     },
     "metadata": {},
     "output_type": "display_data"
    },
    {
     "name": "stderr",
     "output_type": "stream",
     "text": [
      "INFO:__main__:Processing query: Quotes about success and failure\n"
     ]
    },
    {
     "data": {
      "application/vnd.jupyter.widget-view+json": {
       "model_id": "1b5f04f31ccc4e169d9c5f5e0a25892a",
       "version_major": 2,
       "version_minor": 0
      },
      "text/plain": [
       "Batches:   0%|          | 0/1 [00:00<?, ?it/s]"
      ]
     },
     "metadata": {},
     "output_type": "display_data"
    },
    {
     "name": "stdout",
     "output_type": "stream",
     "text": [
      "Evaluation Results: {'manual_evaluation': [{'query': 'Quotes about insanity attributed to Einstein', 'num_retrieved': 5, 'avg_relevancy': 0.9578266143798828, 'response_length': 622}, {'query': \"Motivational quotes tagged 'accomplishment'\", 'num_retrieved': 5, 'avg_relevancy': 0.9329124450683594, 'response_length': 598}, {'query': 'All Oscar Wilde quotes with humor', 'num_retrieved': 5, 'avg_relevancy': 0.956478762626648, 'response_length': 479}, {'query': 'Quotes about love and life', 'num_retrieved': 5, 'avg_relevancy': 0.968523359298706, 'response_length': 435}, {'query': 'Inspirational quotes by women authors', 'num_retrieved': 5, 'avg_relevancy': 0.9618537664413452, 'response_length': 554}, {'query': 'Quotes about courage and bravery', 'num_retrieved': 5, 'avg_relevancy': 0.96171715259552, 'response_length': 676}, {'query': 'Philosophical quotes about existence', 'num_retrieved': 5, 'avg_relevancy': 0.9504557967185974, 'response_length': 626}, {'query': 'Quotes about success and failure', 'num_retrieved': 5, 'avg_relevancy': 0.9581384658813477, 'response_length': 621}]}\n"
     ]
    }
   ],
   "source": [
    "#Run Evaluation\n",
    "evaluator = RAGEvaluator(rag_pipeline)\n",
    "eval_results = evaluator.evaluate_rag()\n",
    "print(\"Evaluation Results:\", eval_results)"
   ]
  },
  {
   "cell_type": "code",
   "execution_count": 31,
   "metadata": {},
   "outputs": [
    {
     "data": {
      "image/png": "[encoded data removed]",
      "text/plain": [
       "<Figure size 1200x600 with 1 Axes>"
      ]
     },
     "metadata": {},
     "output_type": "display_data"
    },
    {
     "name": "stdout",
     "output_type": "stream",
     "text": [
      "quote length distribution chart saved as quote_length_distribution.png\n"
     ]
    },
    {
     "data": {
      "image/png": "[encoded data removed]",
      "text/plain": [
       "<Figure size 1200x600 with 1 Axes>"
      ]
     },
     "metadata": {},
     "output_type": "display_data"
    },
    {
     "name": "stdout",
     "output_type": "stream",
     "text": [
      "top tags chart saved as top_tags.png\n"
     ]
    }
   ],
   "source": [
    "# Cell: Generate Both Improved Visualizations\n",
    "import matplotlib.pyplot as plt\n",
    "import seaborn as sns\n",
    "import pandas as pd\n",
    "from collections import Counter\n",
    "\n",
    "# Ensure df is available (from previous cells where data was loaded)\n",
    "\n",
    "# Visualization 1: Quote Length Distribution\n",
    "df['quote_length'] = df['quote'].apply(len)\n",
    "plt.figure(figsize=(12, 6))\n",
    "sns.histplot(df['quote_length'], bins=30, color='skyblue', kde=True)\n",
    "plt.title('Distribution of Quote Lengths', fontsize=16, pad=20)\n",
    "plt.xlabel('Length (Characters)', fontsize=12)\n",
    "plt.ylabel('Count', fontsize=12)\n",
    "plt.xticks(fontsize=10)\n",
    "plt.yticks(fontsize=10)\n",
    "plt.grid(True, alpha=0.3)\n",
    "plt.tight_layout()\n",
    "plt.savefig('quote_length_distribution.png', dpi=300, bbox_inches='tight')\n",
    "plt.show()\n",
    "print(\"quote length distribution chart saved as quote_length_distribution.png\")\n",
    "\n",
    "# Visualization 2: Top 10 Tags\n",
    "all_tags = []\n",
    "for tags in df['tags']:\n",
    "    all_tags.extend(tags)\n",
    "top_tags = pd.Series(Counter(all_tags)).sort_values(ascending=False).head(10)\n",
    "plt.figure(figsize=(12, 6))\n",
    "sns.barplot(x=top_tags.index, y=top_tags.values, palette='Blues_d')\n",
    "plt.title('Top 10 Tags', fontsize=16, pad=20)\n",
    "plt.xlabel('Tags', fontsize=12)\n",
    "plt.ylabel('Count', fontsize=12)\n",
    "plt.xticks(rotation=45, ha='right', fontsize=10)\n",
    "plt.yticks(fontsize=10)\n",
    "plt.tight_layout()\n",
    "plt.savefig('top_tags.png', dpi=300, bbox_inches='tight')\n",
    "plt.show()\n",
    "print(\"top tags chart saved as top_tags.png\")"
   ]
  },
  {
   "cell_type": "code",
   "execution_count": null,
   "metadata": {},
   "outputs": [],
   "source": []
  }
 ],
 "metadata": {
  "kernelspec": {
   "display_name": "Python 3",
   "language": "python",
   "name": "python3"
  },
  "language_info": {
   "codemirror_mode": {
    "name": "ipython",
    "version": 3
   },
   "file_extension": ".py",
   "mimetype": "text/x-python",
   "name": "python",
   "nbconvert_exporter": "python",
   "pygments_lexer": "ipython3",
   "version": "3.13.2"
  }
 },
 "nbformat": 4,
 "nbformat_minor": 2
}
